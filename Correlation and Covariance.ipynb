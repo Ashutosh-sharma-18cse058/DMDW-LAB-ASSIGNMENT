{
  "nbformat": 4,
  "nbformat_minor": 0,
  "metadata": {
    "colab": {
      "name": "Untitled11.ipynb",
      "provenance": [],
      "authorship_tag": "ABX9TyPXBjjENt9uspaCxEutxtFv",
      "include_colab_link": true
    },
    "kernelspec": {
      "name": "python3",
      "display_name": "Python 3"
    }
  },
  "cells": [
    {
      "cell_type": "markdown",
      "metadata": {
        "id": "view-in-github",
        "colab_type": "text"
      },
      "source": [
        "<a href=\"https://colab.research.google.com/github/Aditi-2840/Dmdw-Lab-Assignments/blob/main/Correlation%20and%20Covariance.ipynb\" target=\"_parent\"><img src=\"https://colab.research.google.com/assets/colab-badge.svg\" alt=\"Open In Colab\"/></a>"
      ]
    },
    {
      "cell_type": "code",
      "metadata": {
        "id": "hPyAlnvpOoPM"
      },
      "source": [
        "import pandas as pd\n",
        "import seaborn as sn\n",
        "import matplotlib.pyplot as plt\n"
      ],
      "execution_count": 1,
      "outputs": []
    },
    {
      "cell_type": "code",
      "metadata": {
        "id": "0DRatfGSRCFU"
      },
      "source": [
        "data = {'A': [45,37,42,35,39],\n",
        "        'B': [38,31,26,28,33],\n",
        "        'C': [10,15,17,21,12]\n",
        "        }"
      ],
      "execution_count": 2,
      "outputs": []
    },
    {
      "cell_type": "code",
      "metadata": {
        "id": "5I3kbezGRnsE"
      },
      "source": [
        "df = pd.DataFrame(data,columns=['A','B','C'])"
      ],
      "execution_count": 3,
      "outputs": []
    },
    {
      "cell_type": "code",
      "metadata": {
        "id": "Kx6DpMPSRtRr"
      },
      "source": [
        "corrMatrix = df.corr()"
      ],
      "execution_count": 4,
      "outputs": []
    },
    {
      "cell_type": "code",
      "metadata": {
        "colab": {
          "base_uri": "https://localhost:8080/",
          "height": 286
        },
        "id": "d0QRDOVwRxR8",
        "outputId": "4f3e6b51-91b1-4bdf-bc44-2639f1c9cbf8"
      },
      "source": [
        "sn.heatmap(corrMatrix, annot=True)"
      ],
      "execution_count": 5,
      "outputs": [
        {
          "output_type": "execute_result",
          "data": {
            "text/plain": [
              "<matplotlib.axes._subplots.AxesSubplot at 0x7f932e463eb8>"
            ]
          },
          "metadata": {
            "tags": []
          },
          "execution_count": 5
        },
        {
          "output_type": "display_data",
          "data": {
            "image/png": "[encoded data removed]",
            "text/plain": [
              "<Figure size 432x288 with 2 Axes>"
            ]
          },
          "metadata": {
            "tags": [],
            "needs_background": "light"
          }
        }
      ]
    },
    {
      "cell_type": "code",
      "metadata": {
        "id": "hdAPG2BFR1cF"
      },
      "source": [
        "plt.show()"
      ],
      "execution_count": 8,
      "outputs": []
    },
    {
      "cell_type": "code",
      "metadata": {
        "id": "wjOeN4hYSC-J"
      },
      "source": [
        "from numpy.random import randn\n",
        "from numpy.random import seed\n",
        "from numpy import cov\n",
        "from matplotlib import pyplot"
      ],
      "execution_count": 9,
      "outputs": []
    },
    {
      "cell_type": "code",
      "metadata": {
        "id": "l3hsfLQdSGwi"
      },
      "source": [
        "data1 = 20 * randn(100) + 100\n",
        "data2 = data1 + (10 * randn(100) + 50)\n"
      ],
      "execution_count": 10,
      "outputs": []
    },
    {
      "cell_type": "code",
      "metadata": {
        "id": "QaNtWVBJSLAS"
      },
      "source": [
        "covariance = cov(data1, data2)"
      ],
      "execution_count": 11,
      "outputs": []
    },
    {
      "cell_type": "code",
      "metadata": {
        "colab": {
          "base_uri": "https://localhost:8080/"
        },
        "id": "x41BluiNSTbX",
        "outputId": "41d16cee-42e5-48d8-b894-8a5783e0dfb3"
      },
      "source": [
        "print(covariance)\n"
      ],
      "execution_count": 12,
      "outputs": [
        {
          "output_type": "stream",
          "text": [
            "[[350.42408651 323.97538695]\n",
            " [323.97538695 372.22549084]]\n"
          ],
          "name": "stdout"
        }
      ]
    },
    {
      "cell_type": "code",
      "metadata": {
        "colab": {
          "base_uri": "https://localhost:8080/",
          "height": 265
        },
        "id": "SSma5C9FSXLV",
        "outputId": "758cb119-b0e4-4c59-d9fb-8636309824f6"
      },
      "source": [
        "pyplot.scatter(data1, data2)\n",
        "pyplot.show()"
      ],
      "execution_count": 13,
      "outputs": [
        {
          "output_type": "display_data",
          "data": {
            "image/png": "[encoded data removed]",
            "text/plain": [
              "<Figure size 432x288 with 1 Axes>"
            ]
          },
          "metadata": {
            "tags": [],
            "needs_background": "light"
          }
        }
      ]
    }
  ]
}